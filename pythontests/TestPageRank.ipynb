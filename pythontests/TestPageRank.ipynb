{
 "cells": [
  {
   "cell_type": "code",
   "execution_count": 5,
   "metadata": {},
   "outputs": [],
   "source": [
    "import numpy as np \n",
    "import numpy.linalg as la \n"
   ]
  },
  {
   "cell_type": "code",
   "execution_count": 7,
   "metadata": {},
   "outputs": [],
   "source": [
    "\n",
    "def PageRank(A, niter):\n",
    "\n",
    "    M = np.zeros_like(A)\n",
    "\n",
    "    for i in range(M.shape[1]):\n",
    "        if (np.sum(A[:, i]) != 0):\n",
    "            M[:, i] = A[:, i] / np.sum(A[:, i])\n",
    "        else:\n",
    "            M[:, i] = 1 / len(A[:, i])\n",
    "    \n",
    "    G = (0.85 * M) + ((0.15/M.shape[0]) * np.ones_like(M))\n",
    "    x = np.zeros(M.shape[0])\n",
    "    x[0]= 1\n",
    "\n",
    "    for i in range(niter):\n",
    "        x = G @ x\n",
    "        x = x/la.norm(x,1)\n",
    "    return x\n",
    "\n"
   ]
  },
  {
   "cell_type": "code",
   "execution_count": 14,
   "metadata": {},
   "outputs": [
    {
     "name": "stdout",
     "output_type": "stream",
     "text": [
      "[4 9 3 2 1]\n",
      "[0.09036188 0.28405589 0.20852741 0.20852741 0.20852741]\n"
     ]
    }
   ],
   "source": [
    "small_connected_idx = np.array([4, 9, 3, 2, 1])\n",
    "small_connected = np.array([[0, 0.25, 0, 0, 0],\n",
    "                            [1, 0, 1/3, 1/3, 1/3],\n",
    "                            [0, 0.25, 0, 1/3, 1/3],\n",
    "                            [0, 0.25, 1/3, 0, 1/3],\n",
    "                            [0, 0.25, 1/3, 1/3, 0]])\n",
    "print(small_connected_idx)\n",
    "print(PageRank(small_connected, 1000))"
   ]
  },
  {
   "cell_type": "code",
   "execution_count": 16,
   "metadata": {},
   "outputs": [
    {
     "name": "stdout",
     "output_type": "stream",
     "text": [
      "[6 5 4 3 2 1]\n",
      "[0.16666667 0.16666667 0.16666667 0.16666667 0.16666667 0.16666667]\n"
     ]
    }
   ],
   "source": [
    "small_disconnected = np.array([[0, 0.5, 0.5, 0, 0, 0 ],\n",
    "                               [0.5, 0, 0.5, 0, 0, 0 ],\n",
    "                               [0.5, 0.5, 0, 0, 0, 0 ],\n",
    "                               [0, 0, 0, 0, 0.5, 0.5 ],\n",
    "                               [0, 0, 0, 0.5, 0, 0.5 ],\n",
    "                               [0, 0, 0, 0.5, 0.5, 0 ]])\n",
    "small_disconnected_idx = np.array([6,5,4,3,2,1])\n",
    "\n",
    "print(small_disconnected_idx)\n",
    "print(PageRank(small_disconnected, 1000))\n"
   ]
  }
 ],
 "metadata": {
  "kernelspec": {
   "display_name": "Python 3",
   "language": "python",
   "name": "python3"
  },
  "language_info": {
   "codemirror_mode": {
    "name": "ipython",
    "version": 3
   },
   "file_extension": ".py",
   "mimetype": "text/x-python",
   "name": "python",
   "nbconvert_exporter": "python",
   "pygments_lexer": "ipython3",
   "version": "3.10.7"
  },
  "orig_nbformat": 4,
  "vscode": {
   "interpreter": {
    "hash": "752b9a00635618d3676e0a00ecfca4a87da77f3f8814acab7a5b66babbec2259"
   }
  }
 },
 "nbformat": 4,
 "nbformat_minor": 2
}
